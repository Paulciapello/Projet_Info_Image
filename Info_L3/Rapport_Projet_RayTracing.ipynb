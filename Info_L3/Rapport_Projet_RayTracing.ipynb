{
 "cells": [
  {
   "cell_type": "markdown",
   "id": "1fe77020-013e-48a8-9bd3-abc813c1f4e3",
   "metadata": {
    "tags": []
   },
   "source": [
    "\n",
    "![](image/icon1.png)        ![](image/icon2.png)      ![](image/icon3.png) \n",
    "\n",
    ">**Projet Informatique L2** **UT3 Paul Sabatier**  \n",
    ">**Paul Chiapello**   \n",
    ">**Eliot Jenny**"
   ]
  },
  {
   "cell_type": "markdown",
   "id": "872e1400-1a32-40fb-9e89-ea763a981a1d",
   "metadata": {
    "tags": []
   },
   "source": [
    "## Projet RayTracing\n",
    "***\n",
    "\n",
    "## Objectif:\n",
    "***\n",
    "L'objectif de ce projet consiste à créer une image à partir de lancer de rayons.\n",
    "Pour cela il a fallu créer plusieurs élements telles que la scène en y intégrant des objets tels que des sphères et plans faisant office de surface et permettant une impression de profondeur.\n",
    "Pour finir on a essayé de créer un petit film mettant en scène une balle qui rebondi à partir d’un enchaînement de création d’image.\n",
    "***\n",
    "Avant de commencer le projet, nous avons procédé à l'installation de nos interpréteurs Python et de nos terminaux à l'aide de GitBash. Nous avons ensuite créé un dépôt sur GitHub pour travailler en collaboration, voici le lien : [Projet_Info_Image](https://github.com/Paulciapello/Projet_Info_Image.git)\n",
    "\n",
    "Nous avons décidé d'utiliser l'interpréteur Jupyter en raison de sa simplicité et de la possibilité de créer un rapport directement dans l'environnement.\n",
    "\n",
    "## Déroulé du projet: \n",
    "***\n",
    "\n",
    "1) Création des variables des objets sur la scène\n",
    "2) Création des normales et des rayons\n",
    "3) Calcul des intersections avec les objets\n",
    "4) Mise en places des éclairages, des ombres et des réflections\n",
    "5) Paramètre renseignés pour l’image\n",
    "6) Mise en place de l'animation\n",
    "7) Projet Initial (Echouée)\n",
    "***"
   ]
  },
  {
   "cell_type": "markdown",
   "id": "1a8196e2-00f3-44f7-b77a-9282de53d6c5",
   "metadata": {},
   "source": [
    "### I.\tCréation des dictionnaires des objets sur la scène\n",
    "***\n",
    "Chaque objet nous les avons rangé dans des fonctions qui faisaient en quelque sorte office de répertoire pour leur variables respectives.\n",
    "En effet leur variables respective qui se définissent sous forme de liste sont les propriétés de l'objet. On peut voir que chaque propriété est identifiée grâce à une balise. Et chaque balise se définit grâce au variable appelé lors de la création de la fonction avec des “np.array”.\n"
   ]
  },
  {
   "cell_type": "markdown",
   "id": "f170800a",
   "metadata": {
    "tags": []
   },
   "source": [
    "#### Rayon"
   ]
  },
  {
   "cell_type": "code",
   "execution_count": 2,
   "id": "275d4081-51d7-4388-a742-385f5d673a4a",
   "metadata": {
    "tags": []
   },
   "outputs": [],
   "source": [
    "def create_Ray(O, D):\n",
    "    ray = {'origin': np.array(O),\n",
    "           'direction': np.array(D)}\n",
    "    return ray"
   ]
  },
  {
   "cell_type": "markdown",
   "id": "e5961e9e-3865-4beb-bb46-f07c3b8bdb48",
   "metadata": {
    "tags": []
   },
   "source": [
    "##### Plan"
   ]
  },
  {
   "cell_type": "code",
   "execution_count": 3,
   "id": "9a2cff4d-6158-4543-b3c5-d8b6b7585aaf",
   "metadata": {
    "tags": []
   },
   "outputs": [],
   "source": [
    "def create_plane(P, n, amb, dif, sp,ref, i):\n",
    "    plane = {'type' : 'plane',\n",
    "             'position': np.array(P),\n",
    "             'vect_n': np.array(n),\n",
    "             'diffuse': np.array(dif),\n",
    "             'ambient' : np.array(amb),\n",
    "             'specular': np.array(sp),\n",
    "             'reflection': ref,\n",
    "             'index' : int(i)}\n",
    "    return plane"
   ]
  },
  {
   "cell_type": "markdown",
   "id": "de6a333b",
   "metadata": {
    "tags": []
   },
   "source": [
    "#### Sphere"
   ]
  },
  {
   "cell_type": "code",
   "execution_count": 5,
   "id": "db7f6389-6250-401c-a31d-935d23dc76cf",
   "metadata": {
    "tags": []
   },
   "outputs": [],
   "source": [
    "def create_sphere(A,lim,C, r, amb, dif, sp, ref, i):\n",
    "    sphere = {'type':'sphere',                                                                  \n",
    "              'axe':np.array(A),\n",
    "              'height':np.array(lim),\n",
    "              'centre': np.array(C),\n",
    "              'rayon': np.array(r),\n",
    "              'diffuse': np.array(dif),\n",
    "              'ambient' : np.array(amb),\n",
    "              'specular': np.array(sp),\n",
    "              'reflection': ref,\n",
    "              'index' : int(i)}\n",
    "    return sphere"
   ]
  },
  {
   "cell_type": "markdown",
   "id": "9f7ee0da",
   "metadata": {},
   "source": [
    "### II.\tCréation des normales et des rayons\n",
    "***"
   ]
  },
  {
   "cell_type": "markdown",
   "id": "ddb0a300",
   "metadata": {},
   "source": [
    "#### Fonction de Normalisation"
   ]
  },
  {
   "cell_type": "code",
   "execution_count": null,
   "id": "51e79c01",
   "metadata": {},
   "outputs": [],
   "source": [
    "def normalize(x):\n",
    "    return x/np.linalg.norm(x)"
   ]
  },
  {
   "attachments": {},
   "cell_type": "markdown",
   "id": "45b30726",
   "metadata": {},
   "source": [
    "#### Rayon definie pour tous t"
   ]
  },
  {
   "cell_type": "code",
   "execution_count": null,
   "id": "4407ea99",
   "metadata": {},
   "outputs": [],
   "source": [
    "def rayAt(ray, t):\n",
    "    return ray['origin']+t*ray['direction']"
   ]
  },
  {
   "attachments": {},
   "cell_type": "markdown",
   "id": "afc5a34f",
   "metadata": {},
   "source": [
    "#### Fonction de normal aux surfaces "
   ]
  },
  {
   "cell_type": "code",
   "execution_count": null,
   "id": "a976f1c3",
   "metadata": {},
   "outputs": [],
   "source": [
    "def get_Normal(obj, M):\n",
    "    if obj['type'] == 'sphere':\n",
    "        Vect =normalize(M-obj['centre'])\n",
    "    elif obj['type'] == 'plane':\n",
    "        Vect = obj['vect_n']\n",
    "    elif obj['type'] == 'cylinder':\n",
    "        H = obj['centre']\n",
    "        Vect = normalize(M[0]-H[0],M[1]-H[1],0)\n",
    "    \n",
    "    return Vect"
   ]
  },
  {
   "attachments": {},
   "cell_type": "markdown",
   "id": "bd783f18",
   "metadata": {},
   "source": [
    "#### Fonction d'intersection rayon/plan"
   ]
  },
  {
   "cell_type": "code",
   "execution_count": null,
   "id": "49d2041a",
   "metadata": {},
   "outputs": [],
   "source": [
    "def intersect_Plane(ray, plane):\n",
    "    P = plane['position']\n",
    "    n = plane['vect_n']\n",
    "    O = ray['origin']\n",
    "    d = ray['direction']\n",
    "    if abs(np.dot(d, n)) < 1e-6:\n",
    "        return np.inf\n",
    "    t = -np.dot((O-P),n)/np.dot(d, n)\n",
    "    if t>0:\n",
    "        return t\n",
    "    return np.inf"
   ]
  },
  {
   "attachments": {},
   "cell_type": "markdown",
   "id": "86f7711c",
   "metadata": {},
   "source": [
    "#### Fonction d'intersection rayon/sphere"
   ]
  },
  {
   "cell_type": "code",
   "execution_count": null,
   "id": "87b1870d",
   "metadata": {},
   "outputs": [],
   "source": []
  }
 ],
 "metadata": {
  "kernelspec": {
   "display_name": "Python 3 (ipykernel)",
   "language": "python",
   "name": "python3"
  },
  "language_info": {
   "codemirror_mode": {
    "name": "ipython",
    "version": 3
   },
   "file_extension": ".py",
   "mimetype": "text/x-python",
   "name": "python",
   "nbconvert_exporter": "python",
   "pygments_lexer": "ipython3",
   "version": "3.10.9"
  }
 },
 "nbformat": 4,
 "nbformat_minor": 5
}

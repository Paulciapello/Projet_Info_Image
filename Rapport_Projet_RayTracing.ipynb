{
 "cells": [
  {
   "cell_type": "markdown",
   "id": "1fe77020-013e-48a8-9bd3-abc813c1f4e3",
   "metadata": {
    "tags": []
   },
   "source": [
    "![](image/icon1.png) ![](image/icon2.png) ![](image/icon3.png) \n",
    "\n",
    "    \n",
    ">**Projet Informatique L2** **UT3 Paul Sabatier**  \n",
    ">**Paul Chiapello**   \n",
    ">**Nathan DELPORTE**"
   ]
  },
  {
   "cell_type": "markdown",
   "id": "9af3d144",
   "metadata": {
    "tags": []
   },
   "source": [
    "## Projet RayTracing\n",
    "***\n",
    "\n",
    "## Objectif:\n",
    "***\n",
    "L'objectif de ce projet consiste à créer une image à partir de lancer de rayons.\n",
    "Pour cela il a fallu créer plusieurs élements telles que la scène en y intégrant des objets comme des sphères et plans faisant office de surface et permettant une impression de profondeur.\n",
    "Pour finir on a essayé de créer un petit film mettant en scène une balle qui rebondi à partir d’un enchaînement de création d’image.\n",
    "***\n",
    "Avant de commencer le projet, nous avons procédé à l'installation de nos interpréteurs Python et de nos terminaux à l'aide de GitBash. Nous avons ensuite créé un dépôt sur GitHub pour travailler en collaboration, voici le lien : [Projet_Info_Image](https://github.com/Paulciapello/Projet_Info_Image.git)\n",
    "\n",
    "Nous avons décidé d'utiliser l'interpréteur Jupyter en raison de sa simplicité et de la possibilité de créer un rapport directement dans l'environnement.\n",
    "\n",
    "## Déroulé du projet: \n",
    "***\n",
    "\n",
    "1) Création des variables des objets sur la scène\n",
    "2) Création des normales et des rayons\n",
    "3) Calcul des intersections avec les objets\n",
    "4) Mise en places des éclairages, des ombres et des réflections\n",
    "5) Paramètre renseignés pour l’image\n",
    "6) Mise en place de l'animation\n",
    "7) Projet Initial (Echouée)\n",
    "***"
   ]
  },
  {
   "cell_type": "markdown",
   "id": "1a8196e2-00f3-44f7-b77a-9282de53d6c5",
   "metadata": {},
   "source": [
    "### I.\tCréation des dictionnaires des objets sur la scène\n",
    "***\n",
    "Chaque objet nous les avons rangé dans des fonctions qui faisaient en quelque sorte office de répertoire pour leur variables respectives.\n",
    "En effet leur variables respective qui se définissent sous forme de liste sont les propriétés de l'objet. On peut voir que chaque propriété est identifiée grâce à une balise. Et chaque balise se définit grâce au variable appelé lors de la création de la fonction avec des “np.array”.\n"
   ]
  },
  {
   "cell_type": "markdown",
   "id": "f170800a",
   "metadata": {
    "tags": []
   },
   "source": [
    "#### Rayon"
   ]
  },
  {
   "cell_type": "code",
   "execution_count": 2,
   "id": "275d4081-51d7-4388-a742-385f5d673a4a",
   "metadata": {
    "tags": []
   },
   "outputs": [],
   "source": [
    "def create_Ray(O, D):\n",
    "    ray = {'origin': np.array(O),\n",
    "           'direction': np.array(D)}\n",
    "    return ray"
   ]
  },
  {
   "cell_type": "markdown",
   "id": "e5961e9e-3865-4beb-bb46-f07c3b8bdb48",
   "metadata": {
    "tags": []
   },
   "source": [
    "#### Plan"
   ]
  },
  {
   "cell_type": "code",
   "execution_count": 3,
   "id": "9a2cff4d-6158-4543-b3c5-d8b6b7585aaf",
   "metadata": {
    "tags": []
   },
   "outputs": [],
   "source": [
    "def create_plane(P, n, amb, dif, sp,ref, i):\n",
    "    plane = {'type' : 'plane',\n",
    "             'position': np.array(P),\n",
    "             'vect_n': np.array(n),\n",
    "             'diffuse': np.array(dif),\n",
    "             'ambient' : np.array(amb),\n",
    "             'specular': np.array(sp),\n",
    "             'reflection': ref,\n",
    "             'index' : int(i)}\n",
    "    return plane"
   ]
  },
  {
   "cell_type": "markdown",
   "id": "de6a333b",
   "metadata": {
    "tags": []
   },
   "source": [
    "#### Sphere"
   ]
  },
  {
   "cell_type": "code",
   "execution_count": 5,
   "id": "db7f6389-6250-401c-a31d-935d23dc76cf",
   "metadata": {
    "tags": []
   },
   "outputs": [],
   "source": [
    "def create_sphere(A,lim,C, r, amb, dif, sp, ref, i):\n",
    "    sphere = {'type':'sphere',                                                                  \n",
    "              'axe':np.array(A),\n",
    "              'height':np.array(lim),\n",
    "              'centre': np.array(C),\n",
    "              'rayon': np.array(r),\n",
    "              'diffuse': np.array(dif),\n",
    "              'ambient' : np.array(amb),\n",
    "              'specular': np.array(sp),\n",
    "              'reflection': ref,\n",
    "              'index' : int(i)}\n",
    "    return sphere"
   ]
  },
  {
   "cell_type": "markdown",
   "id": "9f7ee0da",
   "metadata": {},
   "source": [
    "### II.\tCréation des normales et des rayons\n",
    "***"
   ]
  },
  {
   "cell_type": "markdown",
   "id": "ddb0a300",
   "metadata": {},
   "source": [
    "#### Fonction de Normalisation"
   ]
  },
  {
   "cell_type": "code",
   "execution_count": null,
   "id": "51e79c01",
   "metadata": {},
   "outputs": [],
   "source": [
    "def normalize(x):\n",
    "    return x/np.linalg.norm(x)"
   ]
  },
  {
   "cell_type": "markdown",
   "id": "45b30726",
   "metadata": {},
   "source": [
    "#### Rayon definie pour tous t"
   ]
  },
  {
   "cell_type": "code",
   "execution_count": null,
   "id": "4407ea99",
   "metadata": {},
   "outputs": [],
   "source": [
    "def rayAt(ray, t):\n",
    "    return ray['origin']+t*ray['direction']"
   ]
  },
  {
   "cell_type": "markdown",
   "id": "afc5a34f",
   "metadata": {},
   "source": [
    "#### Fonction de normal aux surfaces "
   ]
  },
  {
   "cell_type": "code",
   "execution_count": null,
   "id": "a976f1c3",
   "metadata": {},
   "outputs": [],
   "source": [
    "def get_Normal(obj, M):\n",
    "    if obj['type'] == 'sphere':\n",
    "        Vect =normalize(M-obj['centre'])\n",
    "    elif obj['type'] == 'plane':\n",
    "        Vect = obj['vect_n']\n",
    "    elif obj['type'] == 'cylinder':\n",
    "        H = obj['centre']\n",
    "        Vect = normalize(M[0]-H[0],M[1]-H[1],0)\n",
    "    \n",
    "    return Vect"
   ]
  },
  {
   "cell_type": "markdown",
   "id": "f0f2b8d4",
   "metadata": {},
   "source": [
    "### IV. Calculs des intersections avec les objets\n",
    "\n",
    "\n",
    "***"
   ]
  },
  {
   "cell_type": "markdown",
   "id": "bd783f18",
   "metadata": {},
   "source": [
    "#### Fonction d'intersection rayon/plan"
   ]
  },
  {
   "cell_type": "code",
   "execution_count": null,
   "id": "49d2041a",
   "metadata": {},
   "outputs": [],
   "source": [
    "def intersect_Plane(ray, plane):\n",
    "    P = plane['position']\n",
    "    n = plane['vect_n']\n",
    "    O = ray['origin']\n",
    "    d = ray['direction']\n",
    "    if abs(np.dot(d, n)) < 1e-6:\n",
    "        return np.inf\n",
    "    t = -np.dot((O-P),n)/np.dot(d, n)\n",
    "    if t>0:\n",
    "        return t\n",
    "    return np.inf"
   ]
  },
  {
   "cell_type": "markdown",
   "id": "86f7711c",
   "metadata": {},
   "source": [
    "#### Fonction d'intersection rayon/sphere"
   ]
  },
  {
   "cell_type": "code",
   "execution_count": 1,
   "id": "a68426a1",
   "metadata": {},
   "outputs": [],
   "source": [
    "def intersect_Sphere(ray, sphere):\n",
    "    O = ray['origin']\n",
    "    d = ray['direction']\n",
    "    C = sphere['centre']\n",
    "    r = sphere['rayon']\n",
    "\n",
    "    a = np.dot(d, d)\n",
    "    b = -2 * np.dot(d, (C-O))\n",
    "    c = np.dot((C-O),(C-O)) - r**2\n",
    "\n",
    "    delta = b**2 - 4*a*c\n",
    "    if delta >= 0:\n",
    "        t1 = (-b-np.sqrt(delta))/(2*a)\n",
    "        t2 = (-b+np.sqrt(delta))/(2*a)\n",
    "        if t1 >= 0 and t2 >= 0:\n",
    "            return min(t1, t2)\n",
    "        else:\n",
    "            return np.inf\n",
    "    else:\n",
    "        return np.inf"
   ]
  },
  {
   "cell_type": "markdown",
   "id": "b1a092de",
   "metadata": {},
   "source": [
    "#### Fonction d'intersection rayon/cylindre"
   ]
  },
  {
   "cell_type": "code",
   "execution_count": 2,
   "id": "05d00052",
   "metadata": {},
   "outputs": [],
   "source": [
    "def intersect_Cylinder(ray, cylinder):\n",
    "    O = ray['origin']\n",
    "    d = ray['direction']\n",
    "    C = cylinder['centre']\n",
    "    R = cylinder['rayon']\n",
    "    z = 10\n",
    "    \n",
    "    x1 = O[0]\n",
    "    y1 = O[1]       #récupere les (x1,y1,z1) de O\n",
    "    #O_z = O[2]\n",
    "    \n",
    "    a = d[0]\n",
    "    b = d[1]       #récupere les (a,b,c) du vecteur direction\n",
    "    #c = d[2]\n",
    "    \n",
    "    x0 = C[0]\n",
    "    y0 = C[1]       #récupere les(xo,yo,zo) de C\n",
    "    z0 = C[2]\n",
    "    \n",
    "    A = a**2 + b**2\n",
    "    B = 2 * (x1 * a - x0 * a - y1 * b + y0 * b)\n",
    "    C = x1**2 - 2 * x1 * x0 + x0**2 + y1**2 - 2 * y1 * y0 + y0**2 - R**2 + (z - z0)**2\n",
    "    \n",
    "    delta = B**2 - 4 * A * C\n",
    "    \n",
    "    if delta >= 0:\n",
    "        t_1 = (-B-np.sqrt(delta))/(2*A)\n",
    "        t_2 = (-B+np.sqrt(delta))/(2*A)\n",
    "        if t_1 >= 0 and t_2 >= 0:\n",
    "            return min(t_1, t_2)\n",
    "        else:\n",
    "            return np.inf\n",
    "    else:\n",
    "        return np.inf\n",
    "    \n",
    "def intersect_Scene(ray, obj):\n",
    "    if obj['type'] == 'plane':\n",
    "        return intersect_Plane(ray, obj)\n",
    "    elif obj['type'] == 'sphere':\n",
    "        return intersect_Sphere(ray, obj)\n",
    "    elif obj['type'] == 'cylinder':\n",
    "        return intersect_Cylinder(ray, obj)"
   ]
  },
  {
   "cell_type": "markdown",
   "id": "fd6cfb9f",
   "metadata": {},
   "source": [
    "### V. Mise en places des eclairages, des ombres et des réflections\n",
    "\n",
    "***"
   ]
  },
  {
   "cell_type": "markdown",
   "id": "1146b0f7",
   "metadata": {},
   "source": [
    "L'objectif de ce code est de voir si le point \"P\" qui est sur le plan à une normale \"N\" qui a une intersection avec un objet vers la source lumineuse. Si l'objet est dans l'ombre cela nous renverra un \"true\" sinon un false. Ce booléen sera pris en compte dans la fonction \"trace_ray\"."
   ]
  },
  {
   "cell_type": "code",
   "execution_count": 3,
   "id": "5450fd92",
   "metadata": {},
   "outputs": [],
   "source": [
    "def is_in_shadow(obj_min, P, N):\n",
    "    \"\"\"Verifie si les points intersecté sont dans l'ombre\"\"\"\n",
    "    PL = normalize(L - P)                          # Calcul la direction de la lumière \n",
    "    ray_test = create_ray(P + acne_eps * N, PL)    # Crée un rayon d'origine P + acne_eps * N dans la direction de la lumière        \n",
    "    I_intersect = []                       # Listera tous les points intersecté\n",
    "\n",
    "    for obj in scene:\n",
    "        if obj['index'] != obj_min['index']:            \n",
    "            t_obj = intersect_scene(ray_test, obj)\n",
    "            if t_obj != np.inf:\n",
    "                I_intersect.append(t_obj)\n",
    "\n",
    "    if I_intersect:         \n",
    "        return True              \n",
    "    return False"
   ]
  },
  {
   "cell_type": "markdown",
   "id": "482d57f7",
   "metadata": {},
   "source": [
    "Puis l’eclairage, on a récupéré les normal entre Le plan et la lumière mais aussi le plan et la sphère dans des variable respective (PL et PC) mais aussi la normal des objets grâce à la variable N qui prend la valeur du get_Normal. \n",
    "A partir de là, il y a “ambient” pour la couleur de l’objet. \n",
    "Le “diffuse”  va émettre la lumière, couleur dans plusieurs directions.\n",
    "Le “specular” qui lui va être en quelque sorte le rond blanc serait la surface dont la normale est la plus proche de la source lumineuse.\n"
   ]
  },
  {
   "cell_type": "code",
   "execution_count": 5,
   "id": "7e006b9d",
   "metadata": {},
   "outputs": [],
   "source": [
    "def eclairage(obj,Light,P): \n",
    "    N = get_Normal(obj, P)\n",
    "    PL = normalize(L-P)\n",
    "    PC = normalize(C-P)\n",
    "#on calcule la couleur suivant les modèles utilisé\n",
    "    ct = obj['ambient']*Light['ambient']\n",
    "#Lambert shading (diffuse).\n",
    "    ct += obj['diffuse']*Light['diffuse']*max(np.dot(N,PL),0)\n",
    "#Blinn-Phong shading (specular).\n",
    "    ct += obj['specular']*Light['specular']*max(np.dot(N,normalize(PL+PC)),0)**(materialShininess)\n",
    "    return ct"
   ]
  },
  {
   "cell_type": "markdown",
   "id": "4793e72a",
   "metadata": {},
   "source": [
    "Pour la réflection nous avons écrit le code ci-dessous. la formule suivante permet de calculé la durection du rayon après réfelections. Avec les variables \"dir_ray\" et \"N\" pour la normale à l'objets qui va emettre son reflet."
   ]
  },
  {
   "cell_type": "code",
   "execution_count": 2,
   "id": "6089d4aa",
   "metadata": {},
   "outputs": [],
   "source": [
    "def reflected_ray(dir_ray, N):\n",
    "    \"\"\"Calcul la direction du rayon réfléchi.\"\"\"\n",
    "    return dir_ray - 2 * np.dot(dir_ray, N) * N"
   ]
  },
  {
   "cell_type": "markdown",
   "id": "786d428d",
   "metadata": {},
   "source": [
    "Après la réflections il est necessaire de gérer jusqu'à où la réflexion se fait mais aussi mettre à jour la couleur de l'objet qui sera intersecté par le rayon créé par la fonction \"reflected_ray\". Comme on peut le voir ci-dessous, la fonction est une boucle \"for\" qui permet de répéter la réflexion jusqu'à que la variable \"traced\" soit égale à \"none\". On peut voir que la variable \"col\" ce mets à jour avec la réflexion grâce à sa formule \"col = col + c * col_ray\".<br>\n",
    "On peut voir aussi que la variable \"c\" permet de gérer la distance jusqu'à laquel la réflection se fait grâce  à la formule suivante \"c = c * obj['reflection']\"."
   ]
  },
  {
   "cell_type": "code",
   "execution_count": 3,
   "id": "1c6a7228",
   "metadata": {},
   "outputs": [],
   "source": [
    "def compute_reflection(ray_test, depth_max, col):\n",
    "    \"\"\"Calcul la couleur de la réfelction\"\"\"\n",
    "    d = ray_test['direction']\n",
    "    c = 1\n",
    "\n",
    "    for k in range(1, depth_max):\n",
    "        traced = trace_ray(ray_test)\n",
    "\n",
    "        if traced is None:\n",
    "            break\n",
    "\n",
    "        obj, M, N, col_ray = traced\n",
    "        col = col + c * col_ray\n",
    "        d = reflected_ray(ray_test['direction'], N)\n",
    "        ray_test = create_ray(M + acne_eps * N, d)\n",
    "        c = c * obj['reflection']\n",
    "\n",
    "    return col"
   ]
  },
  {
   "cell_type": "markdown",
   "id": "6106b9a0",
   "metadata": {},
   "source": [
    "Pour finir la fonction \"trace_ray\". On peut voir que la fonction commence par une boucle \"for\" pour verifier la distance minimum de l'objet grâce à l'inéquation \"if t_obj < t_min:\" cette boucle if permet de mettre à jour la position \"obj_min\" et \"t_min\" sinon cela renvoit juste un \"none\" à la fonction.<br>\n",
    "Dans un deuxième temps on a mis une boucle qui permet la verification de la présence d'une ombre ou non. S'il y en a la boucle \"if\" renvoie un \"none\" sinon elle calcule la couleur du rayon avec la l'eclairage de la scène.<br>\n",
    "Pour finir le return renvoie toute les valeurs à la fonction \"trace_ray\"."
   ]
  },
  {
   "cell_type": "code",
   "execution_count": null,
   "id": "066641de",
   "metadata": {},
   "outputs": [],
   "source": [
    "def trace_ray(ray):\n",
    "    \"\"\"Trace un rayon à travers la scene\"\"\"\n",
    "    t_min = np.inf\n",
    "    obj_min = None\n",
    "\n",
    "    for obj in scene:\n",
    "        t_obj = intersect_scene(ray, obj)\n",
    "        if t_obj < t_min:\n",
    "            t_min, obj_min = t_obj, obj\n",
    "\n",
    "    if obj_min is None:\n",
    "        return None\n",
    "\n",
    "    P = ray_at(ray, t_min)\n",
    "    N = get_normal(obj_min, P)\n",
    "    shadow = is_in_shadow(obj_min, P, N)\n",
    "\n",
    "    if shadow:\n",
    "        return None\n",
    "\n",
    "    col_ray = eclairage(obj_min, Light, P)\n",
    "    return obj_min, P, N, col_ray"
   ]
  },
  {
   "cell_type": "markdown",
   "id": "526067e5",
   "metadata": {},
   "source": [
    "### VI. Paramètre renseignés pour l'image\n",
    "\n",
    "***"
   ]
  },
  {
   "cell_type": "markdown",
   "id": "1f3977b8",
   "metadata": {},
   "source": [
    "Pour finir nous avons mis les paramètres d'entrée pour notre scène c’est à dire les couleurs, le niveaux des reflets, les dimensions des objets, la création des rayons, pour finir l’enregistrement de l’image, etc.\n",
    "Ci-dessous quelques exemple intéressants : "
   ]
  },
  {
   "cell_type": "code",
   "execution_count": null,
   "id": "ea4133f9",
   "metadata": {},
   "outputs": [],
   "source": [
    "# Position et couleur de la source lumineuse\n",
    "Light = { 'position': np.array([5, 5, 0]),\n",
    "          'ambient': np.array([0.05, 0.05, 0.05]),\n",
    "          'diffuse': np.array([1, 1, 1]),\n",
    "          'specular': np.array([1, 1, 1]) }\n",
    "\n",
    "L = Light['position']"
   ]
  },
  {
   "cell_type": "markdown",
   "id": "076375e0",
   "metadata": {},
   "source": [
    "Les paramètres donnent couleurs et les positions de la lumière on peut reconnaître d’ailleurs les balises qui sont utilisées régulièrement dans les codes vue précédemment."
   ]
  },
  {
   "cell_type": "code",
   "execution_count": null,
   "id": "f102821c",
   "metadata": {},
   "outputs": [],
   "source": [
    "create_sphere([x, y, z], # Position\n",
    "                             .6, # Rayon\n",
    "                             np.array([1. , 0.6, 0. ]), # ambiant\n",
    "                             np.array([1. , 0.6, 0. ]), # diffuse\n",
    "                             np.array([1, 1, 1]), # specular\n",
    "                             0.2, # reflection index\n",
    "                             1), # index"
   ]
  },
  {
   "cell_type": "markdown",
   "id": "1425db8c",
   "metadata": {},
   "source": [
    "Exemple des données renseignées pour un objet. On peut voir qu’en texte on a indiqué les correspondances de chaque liste. En effet l’ordre est important, il doit être le même que dans la fonction créée précédemment."
   ]
  },
  {
   "cell_type": "code",
   "execution_count": null,
   "id": "035e650c",
   "metadata": {},
   "outputs": [],
   "source": [
    " # Loop through all pixels.\n",
    "    for i, x in enumerate(np.linspace(S[0], S[2], w)):\n",
    "        if i % 10 == 0:\n",
    "            print(i / float(w) * 100, \"%\")\n",
    "        for j, y in enumerate(np.linspace(S[1], S[3], h)):\n",
    "            col = np.zeros((3))\n",
    "            Q[:2] = (x,y)\n",
    "            D = normalize(Q-C)\n",
    "            rayTest = create_ray(C, D)\n",
    "            traced = trace_ray(rayTest)\n",
    "            if traced :\n",
    "                obj, M, N, col_ray = traced\n",
    "                col = compute_reflection(rayTest,depth_max,col)\n",
    "            img[h - j - 1, i, :] = np.clip(col, 0, 1) # la fonction clip permet de \"forcer\" col a être dans [0,1]\n",
    "    \n",
    "    plt.imsave('figRaytracing'+str(u)+'.png', img)"
   ]
  },
  {
   "cell_type": "markdown",
   "id": "6c616f58",
   "metadata": {},
   "source": [
    "Ci-dessus on peut voir les boucles “for” qui permettent la création de l’image c’est elle qui va finalement générer l’image et prenant en compte que les rayons dans la scène.\n",
    "On peut voire juste après la fonction qui permet d'enregistrer l’image dans le fichier où est enregistré le code."
   ]
  },
  {
   "cell_type": "markdown",
   "id": "84b488d1",
   "metadata": {},
   "source": [
    "![](image/Image.png)"
   ]
  },
  {
   "cell_type": "markdown",
   "id": "1303abf8",
   "metadata": {},
   "source": [
    "### VII. Mise en place du film\n",
    "\n",
    "***"
   ]
  },
  {
   "cell_type": "markdown",
   "id": "a0adeccd",
   "metadata": {},
   "source": [
    "Nous avons créé une image ci-dessus, mais maintenant, pour réaliser une vidéo d'une balle qui rebondit, nous avons besoin d'un nombre conséquent d'images avec la balle se déplaçant à chaque image.\n",
    "\n",
    "Pour cela, nous avons implémenté une boucle for de 0 à 1000, modifiant la valeur du np.array \"centre\" à chaque itération, afin de capturer le mouvement de la balle à travers les images.\n",
    "\n",
    "Pour permettre le rebondissement de la balle, nous avons créé une fonction avec les constantes a, b, c définies. Nous avons ensuite récupéré ces 1000 images et créé une vidéo.\n",
    "\n",
    "Vous pouvez visionner la vidéo en suivant ce lien : [Animation](https://github.com/Paulciapello/Projet_Info_Image.git)\n"
   ]
  },
  {
   "cell_type": "code",
   "execution_count": null,
   "id": "23c9873c",
   "metadata": {},
   "outputs": [],
   "source": [
    "for u in range(0,1000):     # Calcul des 1000 images \n",
    "    \n",
    "    a = -1.2\n",
    "    b = -1.6\n",
    "    c = 0.1\n",
    "    x = u/40 - 1.5\n",
    "    z = -u/40\n",
    "    y = np.abs(np.exp(-c * z) * a * np.cos((2 * np.pi / b) * z))-0.3   # fonction trouvé à l'aide de matplotlib ou nous pouvons réglé l'amplitude la periode et la limite\n",
    "   \n",
    "    scene = [create_sphere([x, y, z], # Position\n",
    "                             .6, # Rayon\n",
    "                             np.array([1. , 0.6, 0. ]), # ambiant\n",
    "                             np.array([1. , 0.6, 0. ]), # diffuse\n",
    "                             np.array([1, 1, 1]), # specular\n",
    "                             0.4, # reflection index\n",
    "                             1), # index\n",
    "              create_plane([0., -.9, 0.], # Position\n",
    "                             [0, 1, 0], # Normal\n",
    "                             np.array([0.145, 0.584, 0.854]), # ambiant\n",
    "                             np.array([0.145, 0.584, 0.854]), # diffuse\n",
    "                             np.array([1, 1, 1]), # specular\n",
    "                             0.7, # reflection index\n",
    "                             2),# index\n",
    "              create_cylinder([.75, -.3, -1.], 10.,3., np.array([1. , 0.6, 0. ]),\n",
    "                              np.array([1. , 0.6, 0. ]), np.array([1, 1, 1]), 0.2, 3)\n",
    "             ]\n",
    "    \n",
    "    # Loop through all pixels.\n",
    "    for i, x in enumerate(np.linspace(S[0], S[2], w)):\n",
    "        if i % 10 == 0:\n",
    "            print(i / float(w) * 100, \"%\")\n",
    "        for j, y in enumerate(np.linspace(S[1], S[3], h)):\n",
    "            col = np.zeros((3))\n",
    "            Q[:2] = (x,y)\n",
    "            D = normalize(Q-C)\n",
    "            rayTest = create_ray(C, D)\n",
    "            traced = trace_ray(rayTest)\n",
    "            if traced :\n",
    "                obj, M, N, col_ray = traced\n",
    "                col = compute_reflection(rayTest,depth_max,col)\n",
    "            img[h - j - 1, i, :] = np.clip(col, 0, 1) # la fonction clip permet de \"forcer\" col a être dans [0,1]\n",
    "    \n",
    "    plt.imsave('figRaytracing'+str(u)+'.png', img)\n",
    "    u = u + 1"
   ]
  },
  {
   "cell_type": "markdown",
   "id": "6ea74105",
   "metadata": {},
   "source": [
    "### VIII Projet Initial (Echoué)\n",
    "\n",
    "Notre projet initial était de créer une cage de foot à l'aide de cylindres et de réaliser une animation avec la balle entrant dans la cage, faisant office de but. Malheureusement, cela n'a pas marché, nous n'avons pas réussi à implémenter les cylindres"
   ]
  }
 ],
 "metadata": {
  "kernelspec": {
   "display_name": "Python 3 (ipykernel)",
   "language": "python",
   "name": "python3"
  },
  "language_info": {
   "codemirror_mode": {
    "name": "ipython",
    "version": 3
   },
   "file_extension": ".py",
   "mimetype": "text/x-python",
   "name": "python",
   "nbconvert_exporter": "python",
   "pygments_lexer": "ipython3",
   "version": "3.10.9"
  }
 },
 "nbformat": 4,
 "nbformat_minor": 5
}
